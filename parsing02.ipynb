{
 "cells": [
  {
   "cell_type": "code",
   "execution_count": 186,
   "id": "e50b4fe3",
   "metadata": {},
   "outputs": [],
   "source": [
    "# Написать приложение или функцию, которые собирают основные новости с сайта на выбор lenta.ru, yandex-новости. \n",
    "# Для парсинга использовать XPath.\n",
    "# Структура данных в виде словаря должна содержать:\n",
    "# - *название источника;\n",
    "# - наименование новости;\n",
    "# - ссылку на новость;\n",
    "# - дата публикации.\n",
    "# Минимум один сайт, максимум - все два\n",
    "\n",
    "import requests\n",
    "from lxml import html\n",
    "from pprint import pprint\n",
    "import datetime"
   ]
  },
  {
   "cell_type": "code",
   "execution_count": 187,
   "id": "cb7d1549",
   "metadata": {},
   "outputs": [],
   "source": [
    "# Функция парсит новости с главной страницы lenta.ru (центральный блок)\n",
    "def fParseLentaRu():\n",
    "    url=\"https://lenta.ru\"\n",
    "    headers={'User-Agent': 'Mozilla/5.0 (Windows NT 10.0; Win64; x64) AppleWebKit/537.36 (KHTML, like Gecko) Chrome/105.0.0.0 Safari/537.36'}\n",
    "    res=requests.get(url=url,headers=headers)\n",
    "    #print(res.status_code)\n",
    "    #print(res.text)\n",
    "    dom = html.fromstring(res.text)\n",
    "    #news=dom.xpath(\"//div[contains(@class,'topnews__column')]\")\n",
    "    news=dom.xpath(\"//div[contains(@class,'topnews__column')]/a[contains(@class,'topnews')]\")\n",
    "    #print (len(news))\n",
    "    \n",
    "    news_list = []\n",
    "    now = datetime.datetime.now()\n",
    "    for n1 in news:\n",
    "        lnk = n1.xpath(\"@href\")[0]\n",
    "        if \"https://\" not in lnk:\n",
    "            lnk = \"https://lenta.ru\"+lnk\n",
    "        d1 = { \"source\": \"lenta.ru\", \n",
    "               \"news_text\": n1.xpath(\".//text()\")[0],\n",
    "               \"news_link\": lnk,\n",
    "               \"news_datetime\": f'{now.day}.{(\"0\"+str(now.month))[-2:]}.{now.year} {n1.xpath(\".//text()\")[1]}'\n",
    "             }\n",
    "        news_list.append(d1)\n",
    "    return news_list"
   ]
  },
  {
   "cell_type": "code",
   "execution_count": 188,
   "id": "6c32247d",
   "metadata": {},
   "outputs": [
    {
     "name": "stdout",
     "output_type": "stream",
     "text": [
      "{'source': 'lenta.ru', 'news_text': 'Черногория объявила шестерых российских дипломатов персонами нон грата', 'news_link': 'https://lenta.ru/news/2022/09/29/666/', 'news_datetime': '29.09.2022 19:24'}\n",
      "{'source': 'lenta.ru', 'news_text': 'Исполнитель главной роли в «Блэйде» оказался недоволен производством фильма', 'news_link': 'https://lenta.ru/news/2022/09/29/blade_ali/', 'news_datetime': '29.09.2022 19:21'}\n",
      "{'source': 'lenta.ru', 'news_text': 'ЦБ продлил ограничения на переводы денег для нерезидентов недружественных стран', 'news_link': 'https://lenta.ru/news/2022/09/29/prodlilzapret/', 'news_datetime': '29.09.2022 19:20'}\n",
      "{'source': 'lenta.ru', 'news_text': 'Генсек ООН оценил возможность признания референдумов в Донбассе', 'news_link': 'https://lenta.ru/news/2022/09/29/3578/', 'news_datetime': '29.09.2022 19:17'}\n",
      "{'source': 'lenta.ru', 'news_text': 'Глава Дагестана отругал чиновников фразой «вы что, дебилы, ***?»', 'news_link': 'https://lenta.ru/news/2022/09/29/matttt/', 'news_datetime': '29.09.2022 19:16'}\n",
      "{'source': 'lenta.ru', 'news_text': 'Россиянам предложили бюджетные туры для побега от «непростой реальности»', 'news_link': 'https://lenta.ru/news/2022/09/29/escape_from_reality/', 'news_datetime': '29.09.2022 19:13'}\n",
      "{'source': 'lenta.ru', 'news_text': 'Стало известно о планах покинувшей Россию синхронистки-чемпионки', 'news_link': 'https://lenta.ru/news/2022/09/29/davydova/', 'news_datetime': '29.09.2022 19:12'}\n",
      "{'source': 'lenta.ru', 'news_text': 'Блогерша раскрыла способ покупать дизайнерские вещи за бесценок', 'news_link': 'https://lenta.ru/news/2022/09/29/becqenok/', 'news_datetime': '29.09.2022 19:10'}\n",
      "{'source': 'lenta.ru', 'news_text': 'В российском городе мобилизовали хромого стрелка с грыжей', 'news_link': 'https://lenta.ru/news/2022/09/29/strelok/', 'news_datetime': '29.09.2022 19:10'}\n",
      "{'source': 'lenta.ru', 'news_text': 'Посольство Италии рекомендовало гражданам покинуть Россию', 'news_link': 'https://lenta.ru/news/2022/09/29/pokinut_rossiyu/', 'news_datetime': '29.09.2022 19:09'}\n",
      "{'source': 'lenta.ru', 'news_text': 'НАТО похвалило главнокомандующего ВСУ', 'news_link': 'https://lenta.ru/news/2022/09/29/natovsu/', 'news_datetime': '29.09.2022 19:04'}\n",
      "{'source': 'lenta.ru', 'news_text': 'В Одессе задержали вывесивших российский флаг людей', 'news_link': 'https://lenta.ru/news/2022/09/29/zaderzhali/', 'news_datetime': '29.09.2022 18:57'}\n"
     ]
    }
   ],
   "source": [
    "# результат работы программы\n",
    "news_list = fParseLentaRu()\n",
    "for n in news_list:\n",
    "    print(n)"
   ]
  },
  {
   "cell_type": "code",
   "execution_count": null,
   "id": "c5dfbf93",
   "metadata": {},
   "outputs": [],
   "source": []
  }
 ],
 "metadata": {
  "kernelspec": {
   "display_name": "Python 3 (ipykernel)",
   "language": "python",
   "name": "python3"
  },
  "language_info": {
   "codemirror_mode": {
    "name": "ipython",
    "version": 3
   },
   "file_extension": ".py",
   "mimetype": "text/x-python",
   "name": "python",
   "nbconvert_exporter": "python",
   "pygments_lexer": "ipython3",
   "version": "3.10.1"
  }
 },
 "nbformat": 4,
 "nbformat_minor": 5
}
